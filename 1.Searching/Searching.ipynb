{
  "nbformat": 4,
  "nbformat_minor": 0,
  "metadata": {
    "colab": {
      "name": "DSA.ipynb",
      "provenance": [],
      "collapsed_sections": []
    },
    "kernelspec": {
      "name": "python3",
      "display_name": "Python 3"
    }
  },
  "cells": [
    {
      "cell_type": "markdown",
      "metadata": {
        "id": "x7EJsvXCtQ4m",
        "colab_type": "text"
      },
      "source": [
        "### Generating Random List of 10**6 Integers\n"
      ]
    },
    {
      "cell_type": "code",
      "metadata": {
        "id": "N7tV6gdZs71u",
        "colab_type": "code",
        "colab": {}
      },
      "source": [
        "import numpy as np\n",
        "import time"
      ],
      "execution_count": 0,
      "outputs": []
    },
    {
      "cell_type": "code",
      "metadata": {
        "id": "A41mWEvzs9UX",
        "colab_type": "code",
        "outputId": "6fc0b0f6-852a-44f0-b7cb-dd468eafbdb4",
        "colab": {
          "base_uri": "https://localhost:8080/",
          "height": 51
        }
      },
      "source": [
        "li = list(np.random.randint(0,10**10, 10**6))\n",
        "print(type(li))\n",
        "print(len(li))"
      ],
      "execution_count": 38,
      "outputs": [
        {
          "output_type": "stream",
          "text": [
            "<class 'list'>\n",
            "1000000\n"
          ],
          "name": "stdout"
        }
      ]
    },
    {
      "cell_type": "markdown",
      "metadata": {
        "id": "c0rLfsebtap9",
        "colab_type": "text"
      },
      "source": [
        "### Linear Search\n"
      ]
    },
    {
      "cell_type": "code",
      "metadata": {
        "id": "CWpiLFSHGTOw",
        "colab_type": "code",
        "colab": {}
      },
      "source": [
        "x = li[10000]"
      ],
      "execution_count": 0,
      "outputs": []
    },
    {
      "cell_type": "code",
      "metadata": {
        "id": "e_EajuVJtIUV",
        "colab_type": "code",
        "outputId": "3ef8db96-eb22-42cf-e8fd-785dea5fba52",
        "colab": {
          "base_uri": "https://localhost:8080/",
          "height": 51
        }
      },
      "source": [
        "# Single element search\n",
        "\n",
        "# x = np.random.randint(0,10**5)\n",
        "\n",
        "start = time.time()\n",
        "\n",
        "for i in range(len(li)):\n",
        "    if li[i]==x:\n",
        "        print(\"Found at position \", i)\n",
        "        break\n",
        "else:\n",
        "    print(\"Number not found!\")\n",
        "\n",
        "print(\"Total time taken in secs: \", time.time() - start)"
      ],
      "execution_count": 12,
      "outputs": [
        {
          "output_type": "stream",
          "text": [
            "Found at position  10000\n",
            "Total time taken in secs:  0.0016415119171142578\n"
          ],
          "name": "stdout"
        }
      ]
    },
    {
      "cell_type": "code",
      "metadata": {
        "id": "0IJxLHHkuDkj",
        "colab_type": "code",
        "outputId": "809601b6-b1a5-4701-b6f7-fe14fe285c3c",
        "colab": {
          "base_uri": "https://localhost:8080/",
          "height": 51
        }
      },
      "source": [
        "# Time for average search on 1000 elements\n",
        "\n",
        "test = np.random.randint(0,10**10, 1000)\n",
        "\n",
        "start = time.time()\n",
        "\n",
        "for x in test:\n",
        "\n",
        "    for i in range(len(li)):\n",
        "        if li[i]==x:\n",
        "            #print(\"Found at position \", i)\n",
        "            break\n",
        "    else:\n",
        "        pass\n",
        "        #print(\"Number not found!\")\n",
        "\n",
        "end = time.time()\n",
        "print(\"Total time taken for 1000 elements in secs: \", end - start)\n",
        "print(\"Average time taken in secs: \", (end - start)/1000)"
      ],
      "execution_count": 0,
      "outputs": [
        {
          "output_type": "stream",
          "text": [
            "Total time taken for 1000 elements in secs:  126.46154975891113\n",
            "Average time taken in secs:  0.12646154975891113\n"
          ],
          "name": "stdout"
        }
      ]
    },
    {
      "cell_type": "code",
      "metadata": {
        "id": "FW7CRPzixUcV",
        "colab_type": "code",
        "colab": {}
      },
      "source": [
        ""
      ],
      "execution_count": 0,
      "outputs": []
    },
    {
      "cell_type": "code",
      "metadata": {
        "id": "u-NsNmxVxUaL",
        "colab_type": "code",
        "colab": {}
      },
      "source": [
        "# Checking the trend in increase of time with respect to search query N\n",
        "from matplotlib import pyplot as plt\n",
        "N = []\n",
        "time_taken = []\n",
        "avg_time_taken = []\n",
        "\n",
        "n = 1\n",
        "while n < 10**3:\n",
        "    N += [n]\n",
        "    test = np.random.randint(0,10**10, n)\n",
        "\n",
        "    start = time.time() \n",
        "\n",
        "    for x in test:\n",
        "\n",
        "        for i in range(len(li)):\n",
        "            if li[i]==x:\n",
        "                #print(\"Found at position \", i)\n",
        "                break\n",
        "        else:\n",
        "            pass\n",
        "            #print(\"Number not found!\")\n",
        "\n",
        "    end = time.time()\n",
        "    time_taken += [end-start] \n",
        "    avg_time_taken += [(end-start)/n]\n",
        "    n*=10\n"
      ],
      "execution_count": 0,
      "outputs": []
    },
    {
      "cell_type": "code",
      "metadata": {
        "id": "kELvyhF04Ho4",
        "colab_type": "code",
        "outputId": "87e8503a-0e65-4988-b93c-3adfed8c49c9",
        "colab": {
          "base_uri": "https://localhost:8080/",
          "height": 312
        }
      },
      "source": [
        "plt.title(\"N vs Time taken\")\n",
        "\n",
        "plt.plot(N, time_taken, label=\"total time\")\n",
        "plt.plot(N, avg_time_taken, label=\"avg time\")\n",
        "\n",
        "plt.legend(loc='upper left')\n",
        "plt.xlabel('Number of search queries')\n",
        "plt.ylabel('Time (sec)')"
      ],
      "execution_count": 0,
      "outputs": [
        {
          "output_type": "execute_result",
          "data": {
            "text/plain": [
              "Text(0, 0.5, 'Time (sec)')"
            ]
          },
          "metadata": {
            "tags": []
          },
          "execution_count": 40
        },
        {
          "output_type": "display_data",
          "data": {
            "image/png": "[encoded data removed]",
            "text/plain": [
              "<Figure size 432x288 with 1 Axes>"
            ]
          },
          "metadata": {
            "tags": [],
            "needs_background": "light"
          }
        }
      ]
    },
    {
      "cell_type": "markdown",
      "metadata": {
        "id": "JSUsrqicvELV",
        "colab_type": "text"
      },
      "source": [
        "### Binary Search"
      ]
    },
    {
      "cell_type": "code",
      "metadata": {
        "id": "vQMCEGNrGfbW",
        "colab_type": "code",
        "colab": {}
      },
      "source": [
        "li2 = [1,2,3,4,5]"
      ],
      "execution_count": 0,
      "outputs": []
    },
    {
      "cell_type": "code",
      "metadata": {
        "id": "7lcLsW2Bv8pZ",
        "colab_type": "code",
        "colab": {}
      },
      "source": [
        "def bsearch(x, start, end):\n",
        "    global li2\n",
        "    mid = (start + end) // 2 \n",
        "    if start+1==end:\n",
        "        if li2[start]==x:\n",
        "            return \"Found at position {}\".format(start)        \n",
        "        elif li2[end]==x:\n",
        "            return \"Found at position {}\".format(end)       \n",
        "        else:\n",
        "            return \"Number not found!\"        \n",
        "    if li2[mid]==x:\n",
        "        return \"Found at position {}\".format(mid)        \n",
        "    elif start==end:\n",
        "        return \"Number not found!\"\n",
        "    else:\n",
        "        if x < li2[mid]:\n",
        "            return bsearch(x, start, mid-1)\n",
        "        else:\n",
        "            return bsearch(x, mid+1, end)"
      ],
      "execution_count": 0,
      "outputs": []
    },
    {
      "cell_type": "code",
      "metadata": {
        "id": "iaFO2SY2HemJ",
        "colab_type": "code",
        "outputId": "37f1c4e8-a726-412d-9219-cf72e2baadde",
        "colab": {
          "base_uri": "https://localhost:8080/",
          "height": 34
        }
      },
      "source": [
        "bsearch(5, 0, len(li2)-1)"
      ],
      "execution_count": 36,
      "outputs": [
        {
          "output_type": "execute_result",
          "data": {
            "text/plain": [
              "'Number not found!'"
            ]
          },
          "metadata": {
            "tags": []
          },
          "execution_count": 36
        }
      ]
    },
    {
      "cell_type": "code",
      "metadata": {
        "id": "9D3o9YTPvF-_",
        "colab_type": "code",
        "outputId": "cdce2263-587a-4f6f-8133-1148d3e7543b",
        "colab": {
          "base_uri": "https://localhost:8080/",
          "height": 51
        }
      },
      "source": [
        "# Single element search\n",
        "\n",
        "x = np.random.randint(0,10**10)\n",
        "\n",
        "start = time.time()\n",
        "\n",
        "li2 = sorted(li)\n",
        "res = bsearch(x, 0, len(li)-1)\n",
        "print(res)\n",
        "\n",
        "print(\"Total time taken in secs: \", time.time() - start)"
      ],
      "execution_count": 37,
      "outputs": [
        {
          "output_type": "stream",
          "text": [
            "Number not found!\n",
            "Total time taken in secs:  0.8926148414611816\n"
          ],
          "name": "stdout"
        }
      ]
    },
    {
      "cell_type": "code",
      "metadata": {
        "id": "dUJuU7btwUvC",
        "colab_type": "code",
        "outputId": "8238fd51-84c2-455c-c800-5ecd1c864f41",
        "colab": {
          "base_uri": "https://localhost:8080/",
          "height": 68
        }
      },
      "source": [
        "# Time for average search on 100 elements\n",
        "\n",
        "test = np.random.randint(0,10**10, 100)\n",
        "\n",
        "start = time.time()\n",
        "\n",
        "li2 = sorted(li)\n",
        "print(\"Sorted\")\n",
        "for x in test:\n",
        "    res = bsearch(x, 0, len(li)-1)\n",
        "\n",
        "end = time.time()\n",
        "print(\"Total time taken for 100 elements in secs: \", end - start)\n",
        "print(\"Average time taken in secs: \", (end - start)/100)"
      ],
      "execution_count": 39,
      "outputs": [
        {
          "output_type": "stream",
          "text": [
            "Sorted\n",
            "Total time taken for 100 elements in secs:  1.0357599258422852\n",
            "Average time taken in secs:  0.010357599258422851\n"
          ],
          "name": "stdout"
        }
      ]
    },
    {
      "cell_type": "code",
      "metadata": {
        "id": "33yssFf60KGS",
        "colab_type": "code",
        "colab": {}
      },
      "source": [
        ""
      ],
      "execution_count": 0,
      "outputs": []
    },
    {
      "cell_type": "code",
      "metadata": {
        "id": "-MFxpKCPzvPL",
        "colab_type": "code",
        "colab": {
          "base_uri": "https://localhost:8080/",
          "height": 448
        },
        "outputId": "d7dbc026-6775-4489-b42c-d64964150237"
      },
      "source": [
        "# Checking the trend in increase of time with respect to search query N\n",
        "from matplotlib import pyplot as plt\n",
        "N = []\n",
        "time_taken = []\n",
        "avg_time_taken = []\n",
        "\n",
        "n = 1\n",
        "while n < 10**8:\n",
        "    print(\"Processing for N = \",n)\n",
        "    N += [n]\n",
        "    test = np.random.randint(0,10**10, n)\n",
        "\n",
        "    start = time.time()\n",
        "\n",
        "    li2 = sorted(li)\n",
        "    for x in test:\n",
        "        bsearch(x, 0, len(li)-1)\n",
        "\n",
        "    end = time.time()\n",
        "    time_taken += [end-start] \n",
        "    avg_time_taken += [(end-start)/n]\n",
        "    n*=10\n",
        "\n",
        "plt.title(\"N vs Time taken - Binary Search\")\n",
        "\n",
        "plt.plot(N, time_taken, label=\"total time\")\n",
        "plt.plot(N, avg_time_taken, label=\"avg time\")\n",
        "\n",
        "plt.legend(loc='upper left')\n",
        "plt.xlabel('Number of search queries')\n",
        "plt.ylabel('Time (sec)')"
      ],
      "execution_count": 43,
      "outputs": [
        {
          "output_type": "stream",
          "text": [
            "Processing for N =  1\n",
            "Processing for N =  10\n",
            "Processing for N =  100\n",
            "Processing for N =  1000\n",
            "Processing for N =  10000\n",
            "Processing for N =  100000\n",
            "Processing for N =  1000000\n",
            "Processing for N =  10000000\n"
          ],
          "name": "stdout"
        },
        {
          "output_type": "execute_result",
          "data": {
            "text/plain": [
              "Text(0, 0.5, 'Time (sec)')"
            ]
          },
          "metadata": {
            "tags": []
          },
          "execution_count": 43
        },
        {
          "output_type": "display_data",
          "data": {
            "image/png": "[encoded data removed]",
            "text/plain": [
              "<Figure size 432x288 with 1 Axes>"
            ]
          },
          "metadata": {
            "tags": [],
            "needs_background": "light"
          }
        }
      ]
    },
    {
      "cell_type": "code",
      "metadata": {
        "id": "UTbLupjbRJj8",
        "colab_type": "code",
        "colab": {}
      },
      "source": [
        ""
      ],
      "execution_count": 0,
      "outputs": []
    }
  ]
}