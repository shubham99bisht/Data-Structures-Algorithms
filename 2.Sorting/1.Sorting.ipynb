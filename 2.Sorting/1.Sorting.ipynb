{
  "nbformat": 4,
  "nbformat_minor": 0,
  "metadata": {
    "colab": {
      "name": "Algorithms.ipynb",
      "provenance": [],
      "collapsed_sections": [
        "97t-wXS1KvnH",
        "HiNmiu8-Oh3i",
        "7mV1FRS5Qepj",
        "xN1A7JROSBN3"
      ]
    },
    "kernelspec": {
      "name": "python3",
      "display_name": "Python 3"
    },
    "accelerator": "GPU"
  },
  "cells": [
    {
      "cell_type": "markdown",
      "metadata": {
        "id": "YUvnBbxZKs8A",
        "colab_type": "text"
      },
      "source": [
        "## Different Sorting Technique\n",
        "\n",
        "\n",
        "1.   Bubble Sort\n",
        "2.   Insertion Sort\n",
        "3.   Merge Sort\n",
        "4.   Quick Sort\n",
        "5.   Heap Sort\n",
        "\n"
      ]
    },
    {
      "cell_type": "code",
      "metadata": {
        "id": "xR07Gx2SQm6h",
        "colab_type": "code",
        "outputId": "35ac61ad-fc37-4da7-df38-d903824155bf",
        "colab": {
          "base_uri": "https://localhost:8080/",
          "height": 54
        }
      },
      "source": [
        "# Generating Random List\n",
        "\n",
        "import random, time\n",
        "n = 100\n",
        "orignal_li = random.sample(range(1, 2*n), n)\n",
        "print(orignal_li)"
      ],
      "execution_count": 0,
      "outputs": [
        {
          "output_type": "stream",
          "text": [
            "[55, 81, 38, 23, 182, 88, 112, 111, 108, 6, 56, 104, 25, 129, 117, 173, 82, 186, 24, 145, 48, 164, 67, 154, 64, 140, 94, 125, 118, 98, 52, 153, 16, 157, 195, 87, 106, 26, 68, 47, 179, 49, 122, 7, 57, 19, 191, 97, 29, 120, 33, 32, 181, 193, 34, 1, 194, 42, 131, 20, 185, 93, 22, 128, 146, 187, 84, 100, 77, 15, 79, 136, 69, 160, 53, 178, 36, 119, 76, 103, 80, 18, 91, 151, 45, 163, 137, 65, 70, 107, 113, 168, 172, 188, 5, 37, 123, 176, 199, 105]\n"
          ],
          "name": "stdout"
        }
      ]
    },
    {
      "cell_type": "markdown",
      "metadata": {
        "id": "97t-wXS1KvnH",
        "colab_type": "text"
      },
      "source": [
        "### Bubble Sort"
      ]
    },
    {
      "cell_type": "code",
      "metadata": {
        "id": "fCBpF4odKnT2",
        "colab_type": "code",
        "outputId": "03d36271-8033-4887-d84c-b1d4b4845d92",
        "colab": {
          "base_uri": "https://localhost:8080/",
          "height": 54
        }
      },
      "source": [
        "li = orignal_li\n",
        "for i in range(n-1):\n",
        "    swap = 0\n",
        "    for j in range(n-i-1):\n",
        "        if li[j]>li[j+1]:\n",
        "            temp = li[j]\n",
        "            li[j]=li[j+1]\n",
        "            li[j+1] = temp\n",
        "            swap = 1\n",
        "    if swap==0:\n",
        "        break\n",
        "print(li)"
      ],
      "execution_count": 0,
      "outputs": [
        {
          "output_type": "stream",
          "text": [
            "[4, 5, 6, 9, 13, 17, 20, 21, 23, 24, 25, 27, 31, 34, 35, 38, 39, 40, 44, 48, 49, 50, 55, 57, 58, 60, 61, 63, 64, 65, 67, 72, 75, 76, 78, 79, 80, 82, 85, 87, 88, 89, 95, 96, 97, 99, 112, 113, 114, 115, 116, 119, 120, 121, 122, 123, 125, 126, 127, 128, 129, 130, 133, 134, 135, 137, 138, 139, 140, 143, 146, 147, 148, 151, 152, 154, 156, 158, 159, 162, 163, 164, 167, 168, 172, 173, 174, 178, 179, 180, 183, 185, 187, 190, 192, 193, 194, 195, 197, 199]\n"
          ],
          "name": "stdout"
        }
      ]
    },
    {
      "cell_type": "markdown",
      "metadata": {
        "id": "HiNmiu8-Oh3i",
        "colab_type": "text"
      },
      "source": [
        "### Insertion Sort"
      ]
    },
    {
      "cell_type": "code",
      "metadata": {
        "id": "Y812yOh1LZEW",
        "colab_type": "code",
        "outputId": "5b6ed4e5-e2ff-42b1-844c-79824b27b47e",
        "colab": {
          "base_uri": "https://localhost:8080/",
          "height": 54
        }
      },
      "source": [
        "n = 100\n",
        "li = random.sample(range(1, 2*n), n)\n",
        "for i in range(n-1):\n",
        "    while i>0 and li[i-1]>li[i]:\n",
        "        temp = li[i-1]\n",
        "        li[i-1]=li[i]\n",
        "        li[i] = temp\n",
        "        i-=1\n",
        "print(li)"
      ],
      "execution_count": 0,
      "outputs": [
        {
          "output_type": "stream",
          "text": [
            "[1, 5, 6, 8, 10, 14, 15, 16, 20, 21, 24, 26, 27, 36, 37, 39, 40, 43, 46, 47, 48, 50, 51, 52, 54, 55, 56, 58, 59, 60, 61, 62, 63, 64, 67, 68, 69, 74, 77, 78, 79, 83, 86, 90, 92, 98, 100, 101, 105, 106, 107, 109, 112, 113, 115, 116, 118, 119, 120, 121, 127, 129, 131, 132, 133, 138, 139, 140, 142, 145, 146, 147, 148, 149, 150, 151, 152, 155, 156, 159, 162, 163, 165, 167, 169, 170, 175, 176, 181, 183, 184, 187, 188, 191, 193, 194, 195, 196, 198, 136]\n"
          ],
          "name": "stdout"
        }
      ]
    },
    {
      "cell_type": "markdown",
      "metadata": {
        "id": "7mV1FRS5Qepj",
        "colab_type": "text"
      },
      "source": [
        "### Merge Sort"
      ]
    },
    {
      "cell_type": "code",
      "metadata": {
        "id": "jBLbtgHBQFrb",
        "colab_type": "code",
        "outputId": "c74bc2eb-6e6e-407c-d9da-7b8cc37c873d",
        "colab": {
          "base_uri": "https://localhost:8080/",
          "height": 54
        }
      },
      "source": [
        "li = orignal_li.copy()\n",
        "\n",
        "def merge(left, right):\n",
        "    combined = []\n",
        "    l, r = 0,0\n",
        "    while l<len(left) and r<len(right):\n",
        "        if left[l]<right[r]:\n",
        "            combined += [left[l]]\n",
        "            l+=1\n",
        "        else:\n",
        "            combined += [right[r]]\n",
        "            r+=1\n",
        "    combined += left[l:]\n",
        "    combined += right[r:]\n",
        "    #print(left, right, combined)\n",
        "    return combined\n",
        "\n",
        "def merge_sort(A, start, end):\n",
        "    if start==end:\n",
        "        return [A[start]]\n",
        "    mid = (start+end)//2\n",
        "    left = merge_sort(A, start, mid)\n",
        "    right = merge_sort(A, mid+1, end)\n",
        "    #print(mid, left, right)\n",
        "    return merge(left, right)\n",
        "\n",
        "print(merge_sort(li, 0, len(li)-1))"
      ],
      "execution_count": 0,
      "outputs": [
        {
          "output_type": "stream",
          "text": [
            "[1, 5, 6, 7, 15, 16, 18, 19, 20, 22, 23, 24, 25, 26, 29, 32, 33, 34, 36, 37, 38, 42, 45, 47, 48, 49, 52, 53, 55, 56, 57, 64, 65, 67, 68, 69, 70, 76, 77, 79, 80, 81, 82, 84, 87, 88, 91, 93, 94, 97, 98, 100, 103, 104, 105, 106, 107, 108, 111, 112, 113, 117, 118, 119, 120, 122, 123, 125, 128, 129, 131, 136, 137, 140, 145, 146, 151, 153, 154, 157, 160, 163, 164, 168, 172, 173, 176, 178, 179, 181, 182, 185, 186, 187, 188, 191, 193, 194, 195, 199]\n"
          ],
          "name": "stdout"
        }
      ]
    },
    {
      "cell_type": "markdown",
      "metadata": {
        "id": "xN1A7JROSBN3",
        "colab_type": "text"
      },
      "source": [
        "### Quick Sort"
      ]
    },
    {
      "cell_type": "code",
      "metadata": {
        "id": "ayzdtpF-QiGp",
        "colab_type": "code",
        "colab": {}
      },
      "source": [
        "# Not implemented\n",
        "\n",
        "li = orignal_li.copy()\n",
        "\n",
        "def quick_sort(A):\n",
        "    pivot = A[-1]\n",
        "    i,j = -1, 0\n",
        "    while j<len(A):\n",
        "        while j<len(A) and A[j]<=pivot: j+=1\n",
        "        i = j-1\n",
        "        A[-1] = A[j]\n",
        "        A[j]=pivot\n",
        "        \n",
        "    return quick_sort(A[:q]) + [A] + quick_sort(A[q+1:])\n",
        "\n",
        "\n",
        "print(quick_sort(li))"
      ],
      "execution_count": 0,
      "outputs": []
    },
    {
      "cell_type": "markdown",
      "metadata": {
        "id": "8popuepbsBMt",
        "colab_type": "text"
      },
      "source": [
        "### Heap Sort"
      ]
    },
    {
      "cell_type": "code",
      "metadata": {
        "id": "3p1mqNCQSDjo",
        "colab_type": "code",
        "outputId": "030751bd-c1b0-417f-fb33-f0a28ad1f960",
        "colab": {
          "base_uri": "https://localhost:8080/",
          "height": 68
        }
      },
      "source": [
        "import math\n",
        "li = [\"x\",1,2,3,5,8,10,7]\n",
        "n = len(li)-1\n",
        "\n",
        "def max_heapify(A,r):\n",
        "    l = [[A[r],r]]\n",
        "    if 2*r < len(A): l += [[A[2*r],2*r]]\n",
        "    if 2*r+1 < len(A): l += [[A[2*r+1],2*r+1]]\n",
        "    l.sort(reverse=True)\n",
        "    k = l[0][1]\n",
        "    if r!=k:\n",
        "        temp = A[k]\n",
        "        A[k] = A[r]\n",
        "        A[r] = temp\n",
        "        return max_heapify(A,k)\n",
        "    return A\n",
        "\n",
        "def build_heap(B,n):  \n",
        "    for i in range(math.ceil(n/2)-1, 0, -1):\n",
        "        B = max_heapify(B,i)\n",
        "    return B\n",
        "\n",
        "print(li)\n",
        "x = build_heap(li.copy(), len(li))\n",
        "print(\"Heap\",x, li)\n",
        "\n",
        "\n",
        "def extract_max(A):\n",
        "    mn = A[0]\n",
        "    A[0] = A[-1]\n",
        "    del A[-1]\n",
        "    return mn,max_heapify(A,0)\n",
        "\n",
        "\n",
        "def heap_sort(A):\n",
        "    ans = []\n",
        "    A_heap = build_heap(A,len(A))\n",
        "\n",
        "    for i in range(len(A)-1):\n",
        "        mn, A = extract_max(A)\n",
        "        ans += [mn]\n",
        "    print(ans)\n",
        "\n",
        "heap_sort(li)"
      ],
      "execution_count": 0,
      "outputs": [
        {
          "output_type": "stream",
          "text": [
            "['x', 1, 2, 3, 5, 8, 10, 7]\n",
            "Heap ['x', 10, 8, 7, 5, 2, 3, 1] ['x', 1, 2, 3, 5, 8, 10, 7]\n",
            "['x', 10, 8, 7, 5, 3, 2]\n"
          ],
          "name": "stdout"
        }
      ]
    },
    {
      "cell_type": "code",
      "metadata": {
        "id": "VoxmcTMZFVPA",
        "colab_type": "code",
        "colab": {}
      },
      "source": [
        ""
      ],
      "execution_count": 0,
      "outputs": []
    }
  ]
}