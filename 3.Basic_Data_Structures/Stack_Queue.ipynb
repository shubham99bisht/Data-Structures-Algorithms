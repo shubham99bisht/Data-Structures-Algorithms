{
  "nbformat": 4,
  "nbformat_minor": 0,
  "metadata": {
    "colab": {
      "name": "Basic.ipynb",
      "provenance": []
    },
    "kernelspec": {
      "name": "python3",
      "display_name": "Python 3"
    }
  },
  "cells": [
    {
      "cell_type": "markdown",
      "metadata": {
        "id": "YP3O5ERBDR8m",
        "colab_type": "text"
      },
      "source": [
        "## Stack using List"
      ]
    },
    {
      "cell_type": "code",
      "metadata": {
        "id": "LVQP9LSADRtj",
        "colab_type": "code",
        "colab": {}
      },
      "source": [
        "stack = []\n",
        "\n",
        "# Stack: [1, 2, 3, 4, 5] <= Top"
      ],
      "execution_count": 0,
      "outputs": []
    },
    {
      "cell_type": "code",
      "metadata": {
        "id": "UOOZl1GNKx-2",
        "colab_type": "code",
        "colab": {}
      },
      "source": [
        "def push(val):\n",
        "    stack.append(val)\n",
        "\n",
        "def pop():\n",
        "    if len(stack)>0:\n",
        "        val = stack.pop()\n",
        "        return val\n",
        "    else:\n",
        "        print(\"Stack is Empty\")\n",
        "\n",
        "def show_stack():\n",
        "    print(stack)"
      ],
      "execution_count": 0,
      "outputs": []
    },
    {
      "cell_type": "code",
      "metadata": {
        "id": "sokfzaafKx8v",
        "colab_type": "code",
        "colab": {}
      },
      "source": [
        "# Inserting Values to Stack\n",
        "\n",
        "push(1)\n",
        "push(2)\n",
        "push(3)\n",
        "push(4)\n",
        "push(5)"
      ],
      "execution_count": 0,
      "outputs": []
    },
    {
      "cell_type": "code",
      "metadata": {
        "id": "rMFg7c9LKx6j",
        "colab_type": "code",
        "colab": {
          "base_uri": "https://localhost:8080/",
          "height": 34
        },
        "outputId": "385a1432-84bb-4aee-b9a1-bbe5450d040d"
      },
      "source": [
        "# Show Contents of Stack\n",
        "\n",
        "show_stack()"
      ],
      "execution_count": 4,
      "outputs": [
        {
          "output_type": "stream",
          "text": [
            "[1, 2, 3, 4, 5]\n"
          ],
          "name": "stdout"
        }
      ]
    },
    {
      "cell_type": "code",
      "metadata": {
        "id": "9JrTFhguEsJt",
        "colab_type": "code",
        "colab": {
          "base_uri": "https://localhost:8080/",
          "height": 34
        },
        "outputId": "5032c0a1-a369-4345-b424-f9c7a4dbd11e"
      },
      "source": [
        "# Delete elements from stack\n",
        "\n",
        "val = pop()\n",
        "print(val)"
      ],
      "execution_count": 5,
      "outputs": [
        {
          "output_type": "stream",
          "text": [
            "5\n"
          ],
          "name": "stdout"
        }
      ]
    },
    {
      "cell_type": "code",
      "metadata": {
        "id": "sPoc1hHqE0Bj",
        "colab_type": "code",
        "colab": {
          "base_uri": "https://localhost:8080/",
          "height": 102
        },
        "outputId": "41f08ef1-489c-435c-e70a-720a2a58025f"
      },
      "source": [
        "val = pop()\n",
        "print(val)\n",
        "\n",
        "val = pop()\n",
        "print(val)\n",
        "\n",
        "val = pop()\n",
        "print(val)\n",
        "\n",
        "val = pop()\n",
        "print(val)\n",
        "\n",
        "val = pop()"
      ],
      "execution_count": 6,
      "outputs": [
        {
          "output_type": "stream",
          "text": [
            "4\n",
            "3\n",
            "2\n",
            "1\n",
            "Stack is Empty\n"
          ],
          "name": "stdout"
        }
      ]
    },
    {
      "cell_type": "markdown",
      "metadata": {
        "id": "LBP0HudbFAzu",
        "colab_type": "text"
      },
      "source": [
        "## Queue using List"
      ]
    },
    {
      "cell_type": "code",
      "metadata": {
        "id": "IkHfQfPkE9-5",
        "colab_type": "code",
        "colab": {}
      },
      "source": [
        "queue = []\n",
        "\n",
        "# Front [1, 2, 3, 4]  # Rear"
      ],
      "execution_count": 0,
      "outputs": []
    },
    {
      "cell_type": "code",
      "metadata": {
        "id": "SOI_IX61FIK3",
        "colab_type": "code",
        "colab": {}
      },
      "source": [
        "# Function to Show contents of Queue\n",
        "def show_queue():\n",
        "    if len(queue)>0:\n",
        "        print(queue)\n",
        "    else:\n",
        "        print(\"Empty Queue!\")\n",
        "\n",
        "\n",
        "# Function to insert into Queue\n",
        "def enque(val):\n",
        "    queue.append(val)\n",
        "    print(\"Queue elements are: \", end=\" \")\n",
        "    show_queue()\n",
        "\n",
        "\n",
        "# Function to delete from Queue\n",
        "def dequeue():\n",
        "    if len(queue)>0:\n",
        "        val = queue.pop(0)\n",
        "    else:\n",
        "        val = -1\n",
        "    print(\"Queue elements are: \", end=\" \")\n",
        "    show_queue()    \n",
        "    return val      "
      ],
      "execution_count": 0,
      "outputs": []
    },
    {
      "cell_type": "code",
      "metadata": {
        "id": "GjrtIUQTFwvD",
        "colab_type": "code",
        "colab": {
          "base_uri": "https://localhost:8080/",
          "height": 102
        },
        "outputId": "a80e2420-cd1a-47bc-f6b5-c637248c24ef"
      },
      "source": [
        "enque(1)\n",
        "enque(2)\n",
        "enque(3)\n",
        "enque(4)\n",
        "enque(5)"
      ],
      "execution_count": 9,
      "outputs": [
        {
          "output_type": "stream",
          "text": [
            "Queue elements are:  [1]\n",
            "Queue elements are:  [1, 2]\n",
            "Queue elements are:  [1, 2, 3]\n",
            "Queue elements are:  [1, 2, 3, 4]\n",
            "Queue elements are:  [1, 2, 3, 4, 5]\n"
          ],
          "name": "stdout"
        }
      ]
    },
    {
      "cell_type": "code",
      "metadata": {
        "id": "WRTbd2ZUGPCH",
        "colab_type": "code",
        "colab": {
          "base_uri": "https://localhost:8080/",
          "height": 136
        },
        "outputId": "f1ea477f-3513-4260-f273-ca66095da8f4"
      },
      "source": [
        "dequeue()\n",
        "dequeue()\n",
        "dequeue()\n",
        "dequeue()\n",
        "dequeue()"
      ],
      "execution_count": 10,
      "outputs": [
        {
          "output_type": "stream",
          "text": [
            "Queue elements are:  [2, 3, 4, 5]\n",
            "Queue elements are:  [3, 4, 5]\n",
            "Queue elements are:  [4, 5]\n",
            "Queue elements are:  [5]\n",
            "Queue elements are:  Empty Queue!\n",
            "Queue elements are:  Empty Queue!\n"
          ],
          "name": "stdout"
        },
        {
          "output_type": "execute_result",
          "data": {
            "text/plain": [
              "-1"
            ]
          },
          "metadata": {
            "tags": []
          },
          "execution_count": 10
        }
      ]
    },
    {
      "cell_type": "code",
      "metadata": {
        "id": "4bVsto9CGR4a",
        "colab_type": "code",
        "colab": {
          "base_uri": "https://localhost:8080/",
          "height": 34
        },
        "outputId": "86d54cca-1bf3-435f-c205-7dd6616d9769"
      },
      "source": [
        "show_queue()"
      ],
      "execution_count": 11,
      "outputs": [
        {
          "output_type": "stream",
          "text": [
            "Empty Queue!\n"
          ],
          "name": "stdout"
        }
      ]
    },
    {
      "cell_type": "markdown",
      "metadata": {
        "id": "WBhojbqhHGO6",
        "colab_type": "text"
      },
      "source": [
        "## Deque using List"
      ]
    },
    {
      "cell_type": "code",
      "metadata": {
        "id": "sd5fgtqnGcfI",
        "colab_type": "code",
        "colab": {}
      },
      "source": [
        "deque = []"
      ],
      "execution_count": 0,
      "outputs": []
    },
    {
      "cell_type": "code",
      "metadata": {
        "id": "PPPM80xoHKHT",
        "colab_type": "code",
        "colab": {}
      },
      "source": [
        "# Function to Show contents of Queue\n",
        "def show_deque():\n",
        "    if len(deque)>0:\n",
        "        print(deque)\n",
        "    else:\n",
        "        print(\"Empty Deque!\")"
      ],
      "execution_count": 0,
      "outputs": []
    },
    {
      "cell_type": "code",
      "metadata": {
        "id": "xTHWK_xOIXdn",
        "colab_type": "code",
        "colab": {}
      },
      "source": [
        "\n",
        "# Function to insert into Queue from FRONT\n",
        "def insert_front(val):\n",
        "    global deque\n",
        "    deque = [val] + deque\n",
        "    print(\"Deque elements are: \", end=\" \")\n",
        "    show_deque()\n",
        "\n",
        "# Function to insert into Queue from REAR\n",
        "def insert_rear(val):\n",
        "    deque.append(val)\n",
        "    print(\"Deque elements are: \", end=\" \")\n",
        "    show_deque()    \n"
      ],
      "execution_count": 0,
      "outputs": []
    },
    {
      "cell_type": "code",
      "metadata": {
        "id": "CLkEON2HIYsh",
        "colab_type": "code",
        "colab": {}
      },
      "source": [
        "\n",
        "# Function to delete from Queue from FRONT\n",
        "def deque_front():\n",
        "    if len(deque)>0:\n",
        "        val = deque.pop(0)\n",
        "    else:\n",
        "        val = -1\n",
        "    print(\"Deque elements are: \", end=\" \")\n",
        "    show_deque()    \n",
        "    return val  \n",
        "\n",
        "\n",
        "# Function to delete from Queue from REAR\n",
        "def deque_rear():\n",
        "    if len(deque)>0:\n",
        "        val = deque.pop(-1)\n",
        "    else:\n",
        "        val = -1\n",
        "    print(\"Deque elements are: \", end=\" \")\n",
        "    show_deque()    \n",
        "    return val      "
      ],
      "execution_count": 0,
      "outputs": []
    },
    {
      "cell_type": "code",
      "metadata": {
        "id": "UEWrKhfFKErb",
        "colab_type": "code",
        "colab": {
          "base_uri": "https://localhost:8080/",
          "height": 119
        },
        "outputId": "c8c9ac1d-608e-4e0a-bdcd-8495ecd3bc06"
      },
      "source": [
        "insert_front(1)\n",
        "insert_front(2)\n",
        "insert_front(3)\n",
        "\n",
        "\n",
        "insert_rear(3)\n",
        "insert_rear(2)\n",
        "insert_rear(1)"
      ],
      "execution_count": 20,
      "outputs": [
        {
          "output_type": "stream",
          "text": [
            "Deque elements are:  [1]\n",
            "Deque elements are:  [2, 1]\n",
            "Deque elements are:  [3, 2, 1]\n",
            "Deque elements are:  [3, 2, 1, 3]\n",
            "Deque elements are:  [3, 2, 1, 3, 2]\n",
            "Deque elements are:  [3, 2, 1, 3, 2, 1]\n"
          ],
          "name": "stdout"
        }
      ]
    },
    {
      "cell_type": "code",
      "metadata": {
        "id": "o5oNhE06Kp6t",
        "colab_type": "code",
        "colab": {
          "base_uri": "https://localhost:8080/",
          "height": 34
        },
        "outputId": "dd843232-7709-4274-835b-23dfdb2bb959"
      },
      "source": [
        "show_deque()"
      ],
      "execution_count": 23,
      "outputs": [
        {
          "output_type": "stream",
          "text": [
            "[3, 2, 1, 3, 2, 1]\n"
          ],
          "name": "stdout"
        }
      ]
    },
    {
      "cell_type": "code",
      "metadata": {
        "id": "UjUQOgPYKP4v",
        "colab_type": "code",
        "colab": {
          "base_uri": "https://localhost:8080/",
          "height": 102
        },
        "outputId": "66e0a578-e6d1-4eac-82af-16986a462a9f"
      },
      "source": [
        "deque_front()\n",
        "deque_front()\n",
        "\n",
        "deque_rear()\n",
        "deque_rear()"
      ],
      "execution_count": 24,
      "outputs": [
        {
          "output_type": "stream",
          "text": [
            "Deque elements are:  [2, 1, 3, 2, 1]\n",
            "Deque elements are:  [1, 3, 2, 1]\n",
            "Deque elements are:  [1, 3, 2]\n",
            "Deque elements are:  [1, 3]\n"
          ],
          "name": "stdout"
        },
        {
          "output_type": "execute_result",
          "data": {
            "text/plain": [
              "2"
            ]
          },
          "metadata": {
            "tags": []
          },
          "execution_count": 24
        }
      ]
    },
    {
      "cell_type": "code",
      "metadata": {
        "id": "ZKCKGAi6KfNf",
        "colab_type": "code",
        "colab": {
          "base_uri": "https://localhost:8080/",
          "height": 34
        },
        "outputId": "c4516df7-53a5-46e1-93e6-4ee77bcdc073"
      },
      "source": [
        "show_deque()"
      ],
      "execution_count": 25,
      "outputs": [
        {
          "output_type": "stream",
          "text": [
            "[1, 3]\n"
          ],
          "name": "stdout"
        }
      ]
    }
  ]
}