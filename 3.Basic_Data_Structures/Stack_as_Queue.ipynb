{
  "nbformat": 4,
  "nbformat_minor": 0,
  "metadata": {
    "colab": {
      "name": "BTree.ipynb",
      "provenance": [],
      "collapsed_sections": []
    },
    "kernelspec": {
      "name": "python3",
      "display_name": "Python 3"
    }
  },
  "cells": [
    {
      "cell_type": "markdown",
      "metadata": {
        "id": "PkEbQyVnfOo_",
        "colab_type": "text"
      },
      "source": [
        "## Queue using Stacks\n",
        "\n",
        "pop() and append() operations can be done only at one end of the list"
      ]
    },
    {
      "cell_type": "code",
      "metadata": {
        "id": "pBJ53FcTfRA5",
        "colab_type": "code",
        "colab": {}
      },
      "source": [
        "stack1 = []\n",
        "stack2 = []\n",
        "\n",
        "'''\n",
        "Front side (pop from beginning)    [ Queue using list ]    Rear side (push at end)\n",
        "'''"
      ],
      "execution_count": 0,
      "outputs": []
    },
    {
      "cell_type": "code",
      "metadata": {
        "id": "kCcwNumkfRG-",
        "colab_type": "code",
        "colab": {}
      },
      "source": [
        "status = 1\n",
        "'''\n",
        "1: Stack 1 ready for push\n",
        "-1: Stack 1 ready for pop\n",
        "\n",
        "2: Stack 2 ready for push\n",
        "-2: Stack 2 ready for pop\n",
        "'''"
      ],
      "execution_count": 0,
      "outputs": []
    },
    {
      "cell_type": "code",
      "metadata": {
        "id": "cW2vYMj-gW1R",
        "colab_type": "code",
        "colab": {}
      },
      "source": [
        "def show_queue():\n",
        "    global status, stack1, stack2\n",
        "    print(\"Front\", end=\" \")\n",
        "    if status == 1:\n",
        "        print(stack1, end=\" \")\n",
        "\n",
        "    elif status == -1:\n",
        "        print(stack1[::-1], end=\" \")\n",
        "\n",
        "    elif status == 2:\n",
        "        print(stack2, end=\" \")\n",
        "\n",
        "    elif status == -2:\n",
        "        print(stack2[::-1], end=\" \")\n",
        "\n",
        "    print(\"Rear\")"
      ],
      "execution_count": 0,
      "outputs": []
    },
    {
      "cell_type": "code",
      "metadata": {
        "id": "n8pTusOSfREt",
        "colab_type": "code",
        "colab": {}
      },
      "source": [
        "def insert_to_queue(val):\n",
        "    global status, stack1, stack2\n",
        "    if status == 1:\n",
        "        stack1.append(val)\n",
        "    if status == 2:\n",
        "        stack2.append(val)    \n",
        "\n",
        "    if status == -1:\n",
        "        while len(stack1):\n",
        "            ele = stack1.pop()\n",
        "            stack2 = []\n",
        "            stack2.append(ele)\n",
        "        status = 2\n",
        "        stack2.append(val)\n",
        "\n",
        "    if status == -2:\n",
        "        while len(stack2):\n",
        "            ele = stack2.pop()\n",
        "            stack1 = []\n",
        "            stack1.append(ele)\n",
        "        status = 1\n",
        "        stack1.append(val)\n",
        "\n",
        "    show_queue()"
      ],
      "execution_count": 0,
      "outputs": []
    },
    {
      "cell_type": "code",
      "metadata": {
        "id": "IXI_DyzMiFwZ",
        "colab_type": "code",
        "colab": {}
      },
      "source": [
        "def delete_from_queue():\n",
        "    global status, stack1, stack2\n",
        "    if status == 1:\n",
        "        while len(stack1)>1:\n",
        "            ele = stack1.pop()\n",
        "            stack2.append(ele)\n",
        "            status = -2\n",
        "        ele = stack1.pop() \n",
        "\n",
        "    elif status == 2:\n",
        "        while len(stack2)>1:\n",
        "            ele = stack1.pop()\n",
        "            stack2.append(ele)\n",
        "            status = -1  \n",
        "        ele = stack2.pop()\n",
        "\n",
        "    elif status == -1:\n",
        "        ele = stack1.pop()\n",
        "\n",
        "    elif status == -2:\n",
        "        ele = stack2.pop()\n",
        "\n",
        "    print(\"Removed Element is \", ele)\n",
        "\n",
        "    show_queue()"
      ],
      "execution_count": 0,
      "outputs": []
    },
    {
      "cell_type": "code",
      "metadata": {
        "id": "MGtGf_qVfRCz",
        "colab_type": "code",
        "outputId": "0adca509-eb63-4eab-bbff-1963929b0418",
        "colab": {
          "base_uri": "https://localhost:8080/",
          "height": 68
        }
      },
      "source": [
        "insert_to_queue(1)\n",
        "insert_to_queue(3)\n",
        "insert_to_queue(5)"
      ],
      "execution_count": 6,
      "outputs": [
        {
          "output_type": "stream",
          "text": [
            "Front [1] Rear\n",
            "Front [1, 3] Rear\n",
            "Front [1, 3, 5] Rear\n"
          ],
          "name": "stdout"
        }
      ]
    },
    {
      "cell_type": "code",
      "metadata": {
        "id": "f4eFbr2x4yQJ",
        "colab_type": "code",
        "outputId": "1689b70b-ac2f-45d7-d7f5-3884d48476e9",
        "colab": {
          "base_uri": "https://localhost:8080/",
          "height": 85
        }
      },
      "source": [
        "delete_from_queue()\n",
        "delete_from_queue()"
      ],
      "execution_count": 7,
      "outputs": [
        {
          "output_type": "stream",
          "text": [
            "Removed Element is  1\n",
            "Front [3, 5] Rear\n",
            "Removed Element is  3\n",
            "Front [5] Rear\n"
          ],
          "name": "stdout"
        }
      ]
    },
    {
      "cell_type": "code",
      "metadata": {
        "id": "GV0COEm75MfY",
        "colab_type": "code",
        "outputId": "57710ead-bd93-4f24-b896-097adfa919c5",
        "colab": {
          "base_uri": "https://localhost:8080/",
          "height": 34
        }
      },
      "source": [
        "show_queue()"
      ],
      "execution_count": 8,
      "outputs": [
        {
          "output_type": "stream",
          "text": [
            "Front [5] Rear\n"
          ],
          "name": "stdout"
        }
      ]
    },
    {
      "cell_type": "code",
      "metadata": {
        "id": "Jvk7uBY74yOS",
        "colab_type": "code",
        "outputId": "bf004a20-d2d4-4345-9cf6-d468314f0678",
        "colab": {
          "base_uri": "https://localhost:8080/",
          "height": 68
        }
      },
      "source": [
        "insert_to_queue(7)\n",
        "insert_to_queue(8)\n",
        "insert_to_queue(9)"
      ],
      "execution_count": 9,
      "outputs": [
        {
          "output_type": "stream",
          "text": [
            "Front [5, 7] Rear\n",
            "Front [5, 7, 8] Rear\n",
            "Front [5, 7, 8, 9] Rear\n"
          ],
          "name": "stdout"
        }
      ]
    },
    {
      "cell_type": "code",
      "metadata": {
        "id": "poVkuUWI45P7",
        "colab_type": "code",
        "outputId": "f389192a-9580-4b5f-db05-1384ec881bf6",
        "colab": {
          "base_uri": "https://localhost:8080/",
          "height": 85
        }
      },
      "source": [
        "delete_from_queue()\n",
        "delete_from_queue()"
      ],
      "execution_count": 10,
      "outputs": [
        {
          "output_type": "stream",
          "text": [
            "Removed Element is  5\n",
            "Front [7, 8, 9] Rear\n",
            "Removed Element is  7\n",
            "Front [8, 9] Rear\n"
          ],
          "name": "stdout"
        }
      ]
    },
    {
      "cell_type": "code",
      "metadata": {
        "id": "ifvxjtzH46XU",
        "colab_type": "code",
        "outputId": "7370d005-a94e-47e5-c2a7-16abb6e149c8",
        "colab": {
          "base_uri": "https://localhost:8080/",
          "height": 34
        }
      },
      "source": [
        "show_queue()"
      ],
      "execution_count": 11,
      "outputs": [
        {
          "output_type": "stream",
          "text": [
            "Front [8, 9] Rear\n"
          ],
          "name": "stdout"
        }
      ]
    },
    {
      "cell_type": "markdown",
      "metadata": {
        "id": "_Bt5mVFxfRmS",
        "colab_type": "text"
      },
      "source": [
        "## Stack using Queues\n",
        "\n",
        "pop() and append() can be done only from opposite of the list"
      ]
    },
    {
      "cell_type": "code",
      "metadata": {
        "id": "8BLYtyWZfUCN",
        "colab_type": "code",
        "colab": {
          "base_uri": "https://localhost:8080/",
          "height": 34
        },
        "outputId": "a6a741fe-b6af-4804-ab09-4e0e82900558"
      },
      "source": [
        "que1 = []\n",
        "que2 = []\n",
        "\n",
        "'''\n",
        "[Stack] Top side (Both push and pop should be done on this side)\n",
        "'''\n",
        "\n",
        "status = 1 \n",
        "\n",
        "'''\n",
        "1: Queue 1 is now the Stack (Q2 is empty)\n",
        "2: Queue 2 is now the Stack (Q1 is empty)\n",
        "'''"
      ],
      "execution_count": 12,
      "outputs": [
        {
          "output_type": "execute_result",
          "data": {
            "text/plain": [
              "'\\n1: Queue 1 is now the Stack (Q2 is empty)\\n2: Queue 2 is now the Stack (Q1 is empty)\\n'"
            ]
          },
          "metadata": {
            "tags": []
          },
          "execution_count": 12
        }
      ]
    },
    {
      "cell_type": "code",
      "metadata": {
        "id": "BIT4lGHs8Chd",
        "colab_type": "code",
        "colab": {}
      },
      "source": [
        "# We can perform only queue operations\n",
        "\n",
        "def enqueue(queue, val):\n",
        "    global que1, que2\n",
        "    if queue==1:\n",
        "        que1.append(val)\n",
        "    elif queue==2:\n",
        "        que2.append(val)    \n",
        "\n",
        "def dequeue(queue):\n",
        "    global que1, que2\n",
        "    if queue==1:\n",
        "        return que1.pop(0)\n",
        "    elif queue==2:\n",
        "        return que2.pop(0)            "
      ],
      "execution_count": 0,
      "outputs": []
    },
    {
      "cell_type": "code",
      "metadata": {
        "id": "eCK9lBq47gLf",
        "colab_type": "code",
        "colab": {}
      },
      "source": [
        "def show_stack():\n",
        "    global status\n",
        "    if status == 1:\n",
        "        print(\"Contents of Stack:\")\n",
        "        print(que1, end = \" \")\n",
        "        print(\"Top\")\n",
        "\n",
        "    if status == 2:\n",
        "        print(\"Contents of Stack:\")\n",
        "        print(que2, end = \" \")\n",
        "        print(\"Top\")      "
      ],
      "execution_count": 0,
      "outputs": []
    },
    {
      "cell_type": "code",
      "metadata": {
        "id": "FVj2XOQFfUGR",
        "colab_type": "code",
        "colab": {}
      },
      "source": [
        "def push(val):\n",
        "    global status\n",
        "    if status == 1:\n",
        "        enqueue(1, val)\n",
        "    if status == 2:\n",
        "        enqueue(2, val)\n",
        "    \n",
        "    show_stack()"
      ],
      "execution_count": 0,
      "outputs": []
    },
    {
      "cell_type": "code",
      "metadata": {
        "id": "vmNxUU49fUEQ",
        "colab_type": "code",
        "colab": {}
      },
      "source": [
        "def pop():\n",
        "    global status, que1, que2\n",
        "    if status == 1:\n",
        "        # Move everything but the last element to Queue 2 and discard the last element\n",
        "        if len(que1)==0:\n",
        "            print(\"Stack Underflow!!\")\n",
        "            return\n",
        "        while len(que1)>1:\n",
        "            ele = dequeue(1)\n",
        "            enqueue(2, ele)\n",
        "        status = 2\n",
        "        ele = dequeue(1)\n",
        "        print(\"Element Popped: \", ele)\n",
        "\n",
        "    if status == 2:\n",
        "        # Move everything but the last element to Queue 2 and discard the last element\n",
        "        if len(que2)==0:\n",
        "            print(\"Stack Underflow!!\")     \n",
        "            return   \n",
        "        while len(que2)>1:\n",
        "            ele = dequeue(2)\n",
        "            enqueue(1, ele)\n",
        "        status = 1\n",
        "        ele = dequeue(2)\n",
        "        print(\"Element Popped: \", ele)        \n",
        "\n",
        "    show_stack()"
      ],
      "execution_count": 0,
      "outputs": []
    },
    {
      "cell_type": "code",
      "metadata": {
        "id": "HyLSA1WC_EZG",
        "colab_type": "code",
        "colab": {
          "base_uri": "https://localhost:8080/",
          "height": 85
        },
        "outputId": "4596453e-302d-44e4-b209-844553370b35"
      },
      "source": [
        "push(1)\n",
        "push(2)"
      ],
      "execution_count": 17,
      "outputs": [
        {
          "output_type": "stream",
          "text": [
            "Contents of Stack:\n",
            "[1] Top\n",
            "Contents of Stack:\n",
            "[1, 2] Top\n"
          ],
          "name": "stdout"
        }
      ]
    },
    {
      "cell_type": "code",
      "metadata": {
        "id": "LBnoGIgn_Ioe",
        "colab_type": "code",
        "colab": {
          "base_uri": "https://localhost:8080/",
          "height": 102
        },
        "outputId": "75df309e-f9c9-44c2-d903-e47b0c234d7a"
      },
      "source": [
        "pop()\n",
        "pop()"
      ],
      "execution_count": 18,
      "outputs": [
        {
          "output_type": "stream",
          "text": [
            "Element Popped:  2\n",
            "Element Popped:  1\n",
            "Contents of Stack:\n",
            "[] Top\n",
            "Stack Underflow!!\n"
          ],
          "name": "stdout"
        }
      ]
    },
    {
      "cell_type": "code",
      "metadata": {
        "id": "xpC4IwaT_Zn8",
        "colab_type": "code",
        "colab": {
          "base_uri": "https://localhost:8080/",
          "height": 119
        },
        "outputId": "bda15447-22ea-4fe5-e856-f58b2a8418d8"
      },
      "source": [
        "push(3)\n",
        "push(4)\n",
        "push(5)"
      ],
      "execution_count": 19,
      "outputs": [
        {
          "output_type": "stream",
          "text": [
            "Contents of Stack:\n",
            "[3] Top\n",
            "Contents of Stack:\n",
            "[3, 4] Top\n",
            "Contents of Stack:\n",
            "[3, 4, 5] Top\n"
          ],
          "name": "stdout"
        }
      ]
    },
    {
      "cell_type": "code",
      "metadata": {
        "id": "BM3SrkDO_KEM",
        "colab_type": "code",
        "colab": {
          "base_uri": "https://localhost:8080/",
          "height": 85
        },
        "outputId": "d11b1e34-5ffa-4ba5-b65a-9afcf6456f55"
      },
      "source": [
        "pop()"
      ],
      "execution_count": 20,
      "outputs": [
        {
          "output_type": "stream",
          "text": [
            "Element Popped:  5\n",
            "Element Popped:  4\n",
            "Contents of Stack:\n",
            "[3] Top\n"
          ],
          "name": "stdout"
        }
      ]
    },
    {
      "cell_type": "code",
      "metadata": {
        "id": "L4_SoEL2_Mjs",
        "colab_type": "code",
        "colab": {}
      },
      "source": [
        ""
      ],
      "execution_count": 0,
      "outputs": []
    }
  ]
}