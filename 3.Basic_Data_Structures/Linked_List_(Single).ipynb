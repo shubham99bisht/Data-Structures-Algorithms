{
  "nbformat": 4,
  "nbformat_minor": 0,
  "metadata": {
    "colab": {
      "name": "Basic.ipynb",
      "provenance": []
    },
    "kernelspec": {
      "name": "python3",
      "display_name": "Python 3"
    }
  },
  "cells": [
    {
      "cell_type": "code",
      "metadata": {
        "id": "6R7JsN2HiDlV",
        "colab_type": "code",
        "colab": {}
      },
      "source": [
        "# Defining Classes for Nodes and Linked Lists\n",
        "\n",
        "class Node:\n",
        "    def __init__(self, data=None):\n",
        "        self.data = data\n",
        "        self.next_node = None\n",
        "\n",
        "class SingleLinkedList:\n",
        "    def __init__(self):\n",
        "        self.head=None\n",
        "\n",
        "SLlist = SingleLinkedList()"
      ],
      "execution_count": 0,
      "outputs": []
    },
    {
      "cell_type": "code",
      "metadata": {
        "id": "zyF8Po--5RXm",
        "colab_type": "code",
        "colab": {}
      },
      "source": [
        "# Function to print elements of Linked List\n",
        "\n",
        "def print_LL():\n",
        "    if SLlist.head:\n",
        "        print(\"Values in Linked List\")\n",
        "        ptr = SLlist.head\n",
        "        while ptr:\n",
        "            print(ptr.data, \"->\", end=\" \")\n",
        "            ptr = ptr.next_node\n",
        "        print(\"\\\\0\")\n",
        "    else:\n",
        "        print(\"List is Empty!\")"
      ],
      "execution_count": 0,
      "outputs": []
    },
    {
      "cell_type": "code",
      "metadata": {
        "id": "nm_wXfAk17yB",
        "colab_type": "code",
        "colab": {}
      },
      "source": [
        "# Insert new node at End\n",
        "\n",
        "def NewNode_at_End(data):\n",
        "    if SLlist.head:\n",
        "        ptr = SLlist.head\n",
        "        while ptr.next_node:\n",
        "            ptr = ptr.next_node\n",
        "        new_node = Node(data)\n",
        "        ptr.next_node = new_node\n",
        "    else:\n",
        "        new_node = Node(data)    \n",
        "        SLlist.head = new_node\n",
        "    \n",
        "    print(\"Node Inserted Succesfully\\n\\n\")\n",
        "    print_LL()\n"
      ],
      "execution_count": 0,
      "outputs": []
    },
    {
      "cell_type": "code",
      "metadata": {
        "id": "V3asGbdL4qso",
        "colab_type": "code",
        "colab": {}
      },
      "source": [
        "# Insert new node at Beginning\n",
        "\n",
        "def NewNode_at_Beginning(data):\n",
        "    new_node = Node(data)\n",
        "    if SLlist.head:\n",
        "        new_node.next_node = SLlist.head\n",
        "    SLlist.head = new_node\n",
        "    \n",
        "    print(\"Node Inserted Succesfully\\n\\n\")\n",
        "    print_LL()\n"
      ],
      "execution_count": 0,
      "outputs": []
    },
    {
      "cell_type": "code",
      "metadata": {
        "id": "lc9hwrAq6k-r",
        "colab_type": "code",
        "colab": {}
      },
      "source": [
        "# Function to search \"node_value\" in Linked List\n",
        "\n",
        "def search_element(node_value):\n",
        "    if SLlist.head:\n",
        "        print(\"Searching Linearly in Linked List\")\n",
        "        ptr = SLlist.head\n",
        "        while ptr:\n",
        "            if ptr.data == node_value:\n",
        "                print(\"Value Found!\")\n",
        "                return\n",
        "            ptr = ptr.next_node\n",
        "        print(\"Node Value not in Linked List!\")    \n",
        "    else:\n",
        "        print(\"Linked List is Empty!\")    "
      ],
      "execution_count": 0,
      "outputs": []
    },
    {
      "cell_type": "code",
      "metadata": {
        "id": "syVUdrD64gF5",
        "colab_type": "code",
        "colab": {}
      },
      "source": [
        "# Function to delete first occurence of \"node_value\" from Linked List\n",
        "\n",
        "def delete_element(node_value):\n",
        "    if SLlist.head:\n",
        "        print(\"Searching Linearly in Linked List\")\n",
        "        ptr = SLlist.head\n",
        "        prev_ptr = None\n",
        "        while ptr:\n",
        "            if ptr.data == node_value:\n",
        "                if prev_ptr:\n",
        "                    prev_ptr.next_node = ptr.next_node\n",
        "                    del ptr\n",
        "                else:\n",
        "                    SLlist.head = ptr.next_node\n",
        "                    del ptr\n",
        "                print(\"Node Deleted!\\n\")\n",
        "                print_LL()\n",
        "                return\n",
        "            prev_ptr = ptr\n",
        "            ptr = ptr.next_node\n",
        "        print(\"Node Value not in Linked List!\")       \n",
        "    else:\n",
        "        print(\"Linked List is Empty\")\n"
      ],
      "execution_count": 0,
      "outputs": []
    },
    {
      "cell_type": "code",
      "metadata": {
        "id": "VbPE0Ae469Un",
        "colab_type": "code",
        "colab": {
          "base_uri": "https://localhost:8080/",
          "height": 272
        },
        "outputId": "ddd6890a-6db9-4fa3-ee1b-7573a839c995"
      },
      "source": [
        "# Inserting values at End\n",
        "\n",
        "NewNode_at_End(5)\n",
        "NewNode_at_End(4)\n",
        "NewNode_at_End(3)"
      ],
      "execution_count": 7,
      "outputs": [
        {
          "output_type": "stream",
          "text": [
            "Node Inserted Succesfully\n",
            "\n",
            "\n",
            "Values in Linked List\n",
            "5 -> \\0\n",
            "Node Inserted Succesfully\n",
            "\n",
            "\n",
            "Values in Linked List\n",
            "5 -> 4 -> \\0\n",
            "Node Inserted Succesfully\n",
            "\n",
            "\n",
            "Values in Linked List\n",
            "5 -> 4 -> 3 -> \\0\n"
          ],
          "name": "stdout"
        }
      ]
    },
    {
      "cell_type": "code",
      "metadata": {
        "id": "ysKm5EPM-fX4",
        "colab_type": "code",
        "colab": {
          "base_uri": "https://localhost:8080/",
          "height": 272
        },
        "outputId": "8dfdeb07-6748-4ec4-cc34-e8ff08cbdd3e"
      },
      "source": [
        "# Inserting values at Beginning\n",
        "\n",
        "NewNode_at_Beginning(1)\n",
        "NewNode_at_Beginning(2)\n",
        "NewNode_at_Beginning(3)"
      ],
      "execution_count": 8,
      "outputs": [
        {
          "output_type": "stream",
          "text": [
            "Node Inserted Succesfully\n",
            "\n",
            "\n",
            "Values in Linked List\n",
            "1 -> 5 -> 4 -> 3 -> \\0\n",
            "Node Inserted Succesfully\n",
            "\n",
            "\n",
            "Values in Linked List\n",
            "2 -> 1 -> 5 -> 4 -> 3 -> \\0\n",
            "Node Inserted Succesfully\n",
            "\n",
            "\n",
            "Values in Linked List\n",
            "3 -> 2 -> 1 -> 5 -> 4 -> 3 -> \\0\n"
          ],
          "name": "stdout"
        }
      ]
    },
    {
      "cell_type": "code",
      "metadata": {
        "id": "EppHtqJe-m-x",
        "colab_type": "code",
        "colab": {
          "base_uri": "https://localhost:8080/",
          "height": 51
        },
        "outputId": "b349f005-d1b7-4550-87a0-2f031abfd8d2"
      },
      "source": [
        "search_element(2)"
      ],
      "execution_count": 9,
      "outputs": [
        {
          "output_type": "stream",
          "text": [
            "Searching Linearly in Linked List\n",
            "Value Found!\n"
          ],
          "name": "stdout"
        }
      ]
    },
    {
      "cell_type": "code",
      "metadata": {
        "id": "oseIIzQ3-w1K",
        "colab_type": "code",
        "colab": {
          "base_uri": "https://localhost:8080/",
          "height": 51
        },
        "outputId": "cbdba59b-a688-4870-b4c9-b47fe5000436"
      },
      "source": [
        "search_element(6)"
      ],
      "execution_count": 10,
      "outputs": [
        {
          "output_type": "stream",
          "text": [
            "Searching Linearly in Linked List\n",
            "Node Value not in Linked List!\n"
          ],
          "name": "stdout"
        }
      ]
    },
    {
      "cell_type": "code",
      "metadata": {
        "id": "US0g5J1M_mDs",
        "colab_type": "code",
        "colab": {
          "base_uri": "https://localhost:8080/",
          "height": 51
        },
        "outputId": "0ea4e750-4e04-4d96-d0be-18591bc6198a"
      },
      "source": [
        "print_LL()"
      ],
      "execution_count": 11,
      "outputs": [
        {
          "output_type": "stream",
          "text": [
            "Values in Linked List\n",
            "3 -> 2 -> 1 -> 5 -> 4 -> 3 -> \\0\n"
          ],
          "name": "stdout"
        }
      ]
    },
    {
      "cell_type": "code",
      "metadata": {
        "id": "UKHExfY0-xnk",
        "colab_type": "code",
        "colab": {
          "base_uri": "https://localhost:8080/",
          "height": 102
        },
        "outputId": "d53a6116-b07b-4ad9-8292-af13d3a97c99"
      },
      "source": [
        "delete_element(2)"
      ],
      "execution_count": 12,
      "outputs": [
        {
          "output_type": "stream",
          "text": [
            "Searching Linearly in Linked List\n",
            "Node Deleted!\n",
            "\n",
            "Values in Linked List\n",
            "3 -> 1 -> 5 -> 4 -> 3 -> \\0\n"
          ],
          "name": "stdout"
        }
      ]
    },
    {
      "cell_type": "code",
      "metadata": {
        "id": "CEp6Aksz_B0z",
        "colab_type": "code",
        "colab": {
          "base_uri": "https://localhost:8080/",
          "height": 102
        },
        "outputId": "0353863a-296d-440f-a81e-0874a5f56625"
      },
      "source": [
        "delete_element(5)"
      ],
      "execution_count": 13,
      "outputs": [
        {
          "output_type": "stream",
          "text": [
            "Searching Linearly in Linked List\n",
            "Node Deleted!\n",
            "\n",
            "Values in Linked List\n",
            "3 -> 1 -> 4 -> 3 -> \\0\n"
          ],
          "name": "stdout"
        }
      ]
    },
    {
      "cell_type": "code",
      "metadata": {
        "id": "VneZ3SiR_MbJ",
        "colab_type": "code",
        "colab": {
          "base_uri": "https://localhost:8080/",
          "height": 51
        },
        "outputId": "e256670f-f5c0-4918-a6a4-b4c4e6376032"
      },
      "source": [
        "delete_element(10)"
      ],
      "execution_count": 14,
      "outputs": [
        {
          "output_type": "stream",
          "text": [
            "Searching Linearly in Linked List\n",
            "Node Value not in Linked List!\n"
          ],
          "name": "stdout"
        }
      ]
    },
    {
      "cell_type": "code",
      "metadata": {
        "id": "d6Jiw8pT_smG",
        "colab_type": "code",
        "colab": {}
      },
      "source": [
        ""
      ],
      "execution_count": 0,
      "outputs": []
    }
  ]
}